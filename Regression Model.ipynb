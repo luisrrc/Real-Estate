{
 "cells": [
  {
   "cell_type": "markdown",
   "metadata": {},
   "source": [
    "## Importing Libraries"
   ]
  },
  {
   "cell_type": "code",
   "execution_count": 1,
   "metadata": {},
   "outputs": [],
   "source": [
    "import pandas as pd\n",
    "from sklearn.metrics import r2_score\n",
    "from flaml import AutoML"
   ]
  },
  {
   "cell_type": "markdown",
   "metadata": {},
   "source": [
    "## Loading the Data"
   ]
  },
  {
   "cell_type": "code",
   "execution_count": 2,
   "metadata": {},
   "outputs": [
    {
     "data": {
      "text/html": [
       "<div>\n",
       "<style scoped>\n",
       "    .dataframe tbody tr th:only-of-type {\n",
       "        vertical-align: middle;\n",
       "    }\n",
       "\n",
       "    .dataframe tbody tr th {\n",
       "        vertical-align: top;\n",
       "    }\n",
       "\n",
       "    .dataframe thead th {\n",
       "        text-align: right;\n",
       "    }\n",
       "</style>\n",
       "<table border=\"1\" class=\"dataframe\">\n",
       "  <thead>\n",
       "    <tr style=\"text-align: right;\">\n",
       "      <th></th>\n",
       "      <th>Address</th>\n",
       "      <th>Bedrooms</th>\n",
       "      <th>Bathrooms</th>\n",
       "      <th>Area(sqft)</th>\n",
       "      <th>Year Built</th>\n",
       "      <th>Parking</th>\n",
       "      <th>Price($)</th>\n",
       "      <th>Location</th>\n",
       "      <th>price/sqft</th>\n",
       "    </tr>\n",
       "  </thead>\n",
       "  <tbody>\n",
       "    <tr>\n",
       "      <th>0</th>\n",
       "      <td>6716 Carney Ave NW</td>\n",
       "      <td>3</td>\n",
       "      <td>2</td>\n",
       "      <td>1687</td>\n",
       "      <td>1992</td>\n",
       "      <td>yes</td>\n",
       "      <td>250000</td>\n",
       "      <td>Albuquerque</td>\n",
       "      <td>148.19</td>\n",
       "    </tr>\n",
       "    <tr>\n",
       "      <th>1</th>\n",
       "      <td>7429 Gila Rd NE</td>\n",
       "      <td>4</td>\n",
       "      <td>2</td>\n",
       "      <td>2245</td>\n",
       "      <td>1973</td>\n",
       "      <td>yes</td>\n",
       "      <td>445990</td>\n",
       "      <td>Albuquerque</td>\n",
       "      <td>198.66</td>\n",
       "    </tr>\n",
       "    <tr>\n",
       "      <th>2</th>\n",
       "      <td>9919 Brunswick Pl NW</td>\n",
       "      <td>4</td>\n",
       "      <td>3</td>\n",
       "      <td>2168</td>\n",
       "      <td>2004</td>\n",
       "      <td>yes</td>\n",
       "      <td>350000</td>\n",
       "      <td>Albuquerque</td>\n",
       "      <td>161.44</td>\n",
       "    </tr>\n",
       "    <tr>\n",
       "      <th>3</th>\n",
       "      <td>4413 Delamar Ave NE</td>\n",
       "      <td>3</td>\n",
       "      <td>2</td>\n",
       "      <td>1867</td>\n",
       "      <td>1959</td>\n",
       "      <td>yes</td>\n",
       "      <td>255000</td>\n",
       "      <td>Albuquerque</td>\n",
       "      <td>136.58</td>\n",
       "    </tr>\n",
       "    <tr>\n",
       "      <th>4</th>\n",
       "      <td>4618 Inspiration Dr SE</td>\n",
       "      <td>4</td>\n",
       "      <td>2</td>\n",
       "      <td>1973</td>\n",
       "      <td>1951</td>\n",
       "      <td>no</td>\n",
       "      <td>280000</td>\n",
       "      <td>Albuquerque</td>\n",
       "      <td>141.92</td>\n",
       "    </tr>\n",
       "    <tr>\n",
       "      <th>...</th>\n",
       "      <td>...</td>\n",
       "      <td>...</td>\n",
       "      <td>...</td>\n",
       "      <td>...</td>\n",
       "      <td>...</td>\n",
       "      <td>...</td>\n",
       "      <td>...</td>\n",
       "      <td>...</td>\n",
       "      <td>...</td>\n",
       "    </tr>\n",
       "    <tr>\n",
       "      <th>8462</th>\n",
       "      <td>1438 Meridian Pl NW #102</td>\n",
       "      <td>2</td>\n",
       "      <td>1</td>\n",
       "      <td>589</td>\n",
       "      <td>1910</td>\n",
       "      <td>yes</td>\n",
       "      <td>349000</td>\n",
       "      <td>Washington</td>\n",
       "      <td>592.53</td>\n",
       "    </tr>\n",
       "    <tr>\n",
       "      <th>8463</th>\n",
       "      <td>631 D St NW #236</td>\n",
       "      <td>1</td>\n",
       "      <td>1</td>\n",
       "      <td>690</td>\n",
       "      <td>2004</td>\n",
       "      <td>no</td>\n",
       "      <td>455000</td>\n",
       "      <td>Washington</td>\n",
       "      <td>659.42</td>\n",
       "    </tr>\n",
       "    <tr>\n",
       "      <th>8464</th>\n",
       "      <td>738 Longfellow St NW #306</td>\n",
       "      <td>1</td>\n",
       "      <td>1</td>\n",
       "      <td>479</td>\n",
       "      <td>1900</td>\n",
       "      <td>no</td>\n",
       "      <td>199500</td>\n",
       "      <td>Washington</td>\n",
       "      <td>416.49</td>\n",
       "    </tr>\n",
       "    <tr>\n",
       "      <th>8465</th>\n",
       "      <td>301 Massachusetts Ave NW #402</td>\n",
       "      <td>2</td>\n",
       "      <td>2</td>\n",
       "      <td>761</td>\n",
       "      <td>2006</td>\n",
       "      <td>yes</td>\n",
       "      <td>539900</td>\n",
       "      <td>Washington</td>\n",
       "      <td>709.46</td>\n",
       "    </tr>\n",
       "    <tr>\n",
       "      <th>8466</th>\n",
       "      <td>1745 N St NW #213</td>\n",
       "      <td>2</td>\n",
       "      <td>2</td>\n",
       "      <td>1781</td>\n",
       "      <td>2017</td>\n",
       "      <td>yes</td>\n",
       "      <td>1349900</td>\n",
       "      <td>Washington</td>\n",
       "      <td>757.94</td>\n",
       "    </tr>\n",
       "  </tbody>\n",
       "</table>\n",
       "<p>8467 rows × 9 columns</p>\n",
       "</div>"
      ],
      "text/plain": [
       "                            Address  Bedrooms  Bathrooms  Area(sqft)  \\\n",
       "0                6716 Carney Ave NW         3          2        1687   \n",
       "1                   7429 Gila Rd NE         4          2        2245   \n",
       "2              9919 Brunswick Pl NW         4          3        2168   \n",
       "3               4413 Delamar Ave NE         3          2        1867   \n",
       "4            4618 Inspiration Dr SE         4          2        1973   \n",
       "...                             ...       ...        ...         ...   \n",
       "8462       1438 Meridian Pl NW #102         2          1         589   \n",
       "8463               631 D St NW #236         1          1         690   \n",
       "8464      738 Longfellow St NW #306         1          1         479   \n",
       "8465  301 Massachusetts Ave NW #402         2          2         761   \n",
       "8466              1745 N St NW #213         2          2        1781   \n",
       "\n",
       "      Year Built Parking  Price($)     Location  price/sqft  \n",
       "0           1992     yes    250000  Albuquerque      148.19  \n",
       "1           1973     yes    445990  Albuquerque      198.66  \n",
       "2           2004     yes    350000  Albuquerque      161.44  \n",
       "3           1959     yes    255000  Albuquerque      136.58  \n",
       "4           1951      no    280000  Albuquerque      141.92  \n",
       "...          ...     ...       ...          ...         ...  \n",
       "8462        1910     yes    349000   Washington      592.53  \n",
       "8463        2004      no    455000   Washington      659.42  \n",
       "8464        1900      no    199500   Washington      416.49  \n",
       "8465        2006     yes    539900   Washington      709.46  \n",
       "8466        2017     yes   1349900   Washington      757.94  \n",
       "\n",
       "[8467 rows x 9 columns]"
      ]
     },
     "execution_count": 2,
     "metadata": {},
     "output_type": "execute_result"
    }
   ],
   "source": [
    "real_state = pd.read_csv('cleaned_data.csv')\n",
    "\n",
    "real_state"
   ]
  },
  {
   "cell_type": "code",
   "execution_count": 3,
   "metadata": {},
   "outputs": [
    {
     "data": {
      "text/html": [
       "<div>\n",
       "<style scoped>\n",
       "    .dataframe tbody tr th:only-of-type {\n",
       "        vertical-align: middle;\n",
       "    }\n",
       "\n",
       "    .dataframe tbody tr th {\n",
       "        vertical-align: top;\n",
       "    }\n",
       "\n",
       "    .dataframe thead th {\n",
       "        text-align: right;\n",
       "    }\n",
       "</style>\n",
       "<table border=\"1\" class=\"dataframe\">\n",
       "  <thead>\n",
       "    <tr style=\"text-align: right;\">\n",
       "      <th></th>\n",
       "      <th>Address</th>\n",
       "      <th>Bedrooms</th>\n",
       "      <th>Bathrooms</th>\n",
       "      <th>Area(sqft)</th>\n",
       "      <th>Year Built</th>\n",
       "      <th>Parking</th>\n",
       "      <th>Location</th>\n",
       "      <th>price/sqft</th>\n",
       "    </tr>\n",
       "  </thead>\n",
       "  <tbody>\n",
       "    <tr>\n",
       "      <th>0</th>\n",
       "      <td>6716 Carney Ave NW</td>\n",
       "      <td>3</td>\n",
       "      <td>2</td>\n",
       "      <td>1687</td>\n",
       "      <td>1992</td>\n",
       "      <td>yes</td>\n",
       "      <td>Albuquerque</td>\n",
       "      <td>148.19</td>\n",
       "    </tr>\n",
       "    <tr>\n",
       "      <th>1</th>\n",
       "      <td>7429 Gila Rd NE</td>\n",
       "      <td>4</td>\n",
       "      <td>2</td>\n",
       "      <td>2245</td>\n",
       "      <td>1973</td>\n",
       "      <td>yes</td>\n",
       "      <td>Albuquerque</td>\n",
       "      <td>198.66</td>\n",
       "    </tr>\n",
       "    <tr>\n",
       "      <th>2</th>\n",
       "      <td>9919 Brunswick Pl NW</td>\n",
       "      <td>4</td>\n",
       "      <td>3</td>\n",
       "      <td>2168</td>\n",
       "      <td>2004</td>\n",
       "      <td>yes</td>\n",
       "      <td>Albuquerque</td>\n",
       "      <td>161.44</td>\n",
       "    </tr>\n",
       "    <tr>\n",
       "      <th>3</th>\n",
       "      <td>4413 Delamar Ave NE</td>\n",
       "      <td>3</td>\n",
       "      <td>2</td>\n",
       "      <td>1867</td>\n",
       "      <td>1959</td>\n",
       "      <td>yes</td>\n",
       "      <td>Albuquerque</td>\n",
       "      <td>136.58</td>\n",
       "    </tr>\n",
       "    <tr>\n",
       "      <th>4</th>\n",
       "      <td>4618 Inspiration Dr SE</td>\n",
       "      <td>4</td>\n",
       "      <td>2</td>\n",
       "      <td>1973</td>\n",
       "      <td>1951</td>\n",
       "      <td>no</td>\n",
       "      <td>Albuquerque</td>\n",
       "      <td>141.92</td>\n",
       "    </tr>\n",
       "    <tr>\n",
       "      <th>...</th>\n",
       "      <td>...</td>\n",
       "      <td>...</td>\n",
       "      <td>...</td>\n",
       "      <td>...</td>\n",
       "      <td>...</td>\n",
       "      <td>...</td>\n",
       "      <td>...</td>\n",
       "      <td>...</td>\n",
       "    </tr>\n",
       "    <tr>\n",
       "      <th>8462</th>\n",
       "      <td>1438 Meridian Pl NW #102</td>\n",
       "      <td>2</td>\n",
       "      <td>1</td>\n",
       "      <td>589</td>\n",
       "      <td>1910</td>\n",
       "      <td>yes</td>\n",
       "      <td>Washington</td>\n",
       "      <td>592.53</td>\n",
       "    </tr>\n",
       "    <tr>\n",
       "      <th>8463</th>\n",
       "      <td>631 D St NW #236</td>\n",
       "      <td>1</td>\n",
       "      <td>1</td>\n",
       "      <td>690</td>\n",
       "      <td>2004</td>\n",
       "      <td>no</td>\n",
       "      <td>Washington</td>\n",
       "      <td>659.42</td>\n",
       "    </tr>\n",
       "    <tr>\n",
       "      <th>8464</th>\n",
       "      <td>738 Longfellow St NW #306</td>\n",
       "      <td>1</td>\n",
       "      <td>1</td>\n",
       "      <td>479</td>\n",
       "      <td>1900</td>\n",
       "      <td>no</td>\n",
       "      <td>Washington</td>\n",
       "      <td>416.49</td>\n",
       "    </tr>\n",
       "    <tr>\n",
       "      <th>8465</th>\n",
       "      <td>301 Massachusetts Ave NW #402</td>\n",
       "      <td>2</td>\n",
       "      <td>2</td>\n",
       "      <td>761</td>\n",
       "      <td>2006</td>\n",
       "      <td>yes</td>\n",
       "      <td>Washington</td>\n",
       "      <td>709.46</td>\n",
       "    </tr>\n",
       "    <tr>\n",
       "      <th>8466</th>\n",
       "      <td>1745 N St NW #213</td>\n",
       "      <td>2</td>\n",
       "      <td>2</td>\n",
       "      <td>1781</td>\n",
       "      <td>2017</td>\n",
       "      <td>yes</td>\n",
       "      <td>Washington</td>\n",
       "      <td>757.94</td>\n",
       "    </tr>\n",
       "  </tbody>\n",
       "</table>\n",
       "<p>8467 rows × 8 columns</p>\n",
       "</div>"
      ],
      "text/plain": [
       "                            Address  Bedrooms  Bathrooms  Area(sqft)  \\\n",
       "0                6716 Carney Ave NW         3          2        1687   \n",
       "1                   7429 Gila Rd NE         4          2        2245   \n",
       "2              9919 Brunswick Pl NW         4          3        2168   \n",
       "3               4413 Delamar Ave NE         3          2        1867   \n",
       "4            4618 Inspiration Dr SE         4          2        1973   \n",
       "...                             ...       ...        ...         ...   \n",
       "8462       1438 Meridian Pl NW #102         2          1         589   \n",
       "8463               631 D St NW #236         1          1         690   \n",
       "8464      738 Longfellow St NW #306         1          1         479   \n",
       "8465  301 Massachusetts Ave NW #402         2          2         761   \n",
       "8466              1745 N St NW #213         2          2        1781   \n",
       "\n",
       "      Year Built Parking     Location  price/sqft  \n",
       "0           1992     yes  Albuquerque      148.19  \n",
       "1           1973     yes  Albuquerque      198.66  \n",
       "2           2004     yes  Albuquerque      161.44  \n",
       "3           1959     yes  Albuquerque      136.58  \n",
       "4           1951      no  Albuquerque      141.92  \n",
       "...          ...     ...          ...         ...  \n",
       "8462        1910     yes   Washington      592.53  \n",
       "8463        2004      no   Washington      659.42  \n",
       "8464        1900      no   Washington      416.49  \n",
       "8465        2006     yes   Washington      709.46  \n",
       "8466        2017     yes   Washington      757.94  \n",
       "\n",
       "[8467 rows x 8 columns]"
      ]
     },
     "execution_count": 3,
     "metadata": {},
     "output_type": "execute_result"
    }
   ],
   "source": [
    "X = real_state.drop('Price($)', axis=1)\n",
    "\n",
    "X"
   ]
  },
  {
   "cell_type": "code",
   "execution_count": 6,
   "metadata": {},
   "outputs": [
    {
     "data": {
      "text/plain": [
       "0        250000\n",
       "1        445990\n",
       "2        350000\n",
       "3        255000\n",
       "4        280000\n",
       "         ...   \n",
       "8462     349000\n",
       "8463     455000\n",
       "8464     199500\n",
       "8465     539900\n",
       "8466    1349900\n",
       "Name: Price($), Length: 8467, dtype: int64"
      ]
     },
     "execution_count": 6,
     "metadata": {},
     "output_type": "execute_result"
    }
   ],
   "source": [
    "y = real_state['Price($)']\n",
    "\n",
    "y"
   ]
  },
  {
   "cell_type": "code",
   "execution_count": 7,
   "metadata": {},
   "outputs": [],
   "source": [
    "# Splitting the data into train and test set\n",
    "from sklearn.model_selection import train_test_split\n",
    "\n",
    "X_train, X_test, y_train, y_test = train_test_split(X, y, test_size= 0.3, random_state=42)"
   ]
  },
  {
   "cell_type": "code",
   "execution_count": 8,
   "metadata": {},
   "outputs": [
    {
     "data": {
      "text/plain": [
       "((8467, 8), (8467,))"
      ]
     },
     "execution_count": 8,
     "metadata": {},
     "output_type": "execute_result"
    }
   ],
   "source": [
    "X.shape, y.shape"
   ]
  },
  {
   "cell_type": "code",
   "execution_count": 9,
   "metadata": {},
   "outputs": [
    {
     "data": {
      "text/plain": [
       "((5926, 8), (2541, 8), (5926,), (2541,))"
      ]
     },
     "execution_count": 9,
     "metadata": {},
     "output_type": "execute_result"
    }
   ],
   "source": [
    "X_train.shape, X_test.shape, y_train.shape, y_test.shape"
   ]
  },
  {
   "cell_type": "markdown",
   "metadata": {},
   "source": [
    "## Building a Regression Model"
   ]
  },
  {
   "cell_type": "code",
   "execution_count": 10,
   "metadata": {},
   "outputs": [
    {
     "name": "stderr",
     "output_type": "stream",
     "text": [
      "[flaml.automl: 10-06 09:27:33] {1432} INFO - Evaluation method: cv\n",
      "[flaml.automl: 10-06 09:27:33] {1478} INFO - Minimizing error metric: 1-r2\n",
      "[flaml.automl: 10-06 09:27:40] {1515} INFO - List of ML learners in AutoML Run: ['lgbm', 'rf', 'catboost', 'xgboost', 'extra_tree']\n",
      "[flaml.automl: 10-06 09:27:40] {1748} INFO - iteration 0, current learner lgbm\n",
      "[flaml.automl: 10-06 09:27:40] {1865} INFO - Estimated sufficient time budget=1896s. Estimated necessary time budget=4s.\n",
      "[flaml.automl: 10-06 09:27:40] {1938} INFO -  at 7.5s,\testimator lgbm's best error=0.6433,\tbest estimator lgbm's best error=0.6433\n",
      "[flaml.automl: 10-06 09:27:40] {1748} INFO - iteration 1, current learner lgbm\n",
      "[flaml.automl: 10-06 09:27:41] {1938} INFO -  at 7.7s,\testimator lgbm's best error=0.6433,\tbest estimator lgbm's best error=0.6433\n",
      "[flaml.automl: 10-06 09:27:41] {1748} INFO - iteration 2, current learner lgbm\n",
      "[flaml.automl: 10-06 09:27:41] {1938} INFO -  at 7.8s,\testimator lgbm's best error=0.3980,\tbest estimator lgbm's best error=0.3980\n",
      "[flaml.automl: 10-06 09:27:41] {1748} INFO - iteration 3, current learner xgboost\n",
      "[flaml.automl: 10-06 09:27:41] {1938} INFO -  at 8.0s,\testimator xgboost's best error=0.7114,\tbest estimator lgbm's best error=0.3980\n",
      "[flaml.automl: 10-06 09:27:41] {1748} INFO - iteration 4, current learner lgbm\n",
      "[flaml.automl: 10-06 09:27:41] {1938} INFO -  at 8.2s,\testimator lgbm's best error=0.2164,\tbest estimator lgbm's best error=0.2164\n",
      "[flaml.automl: 10-06 09:27:41] {1748} INFO - iteration 5, current learner lgbm\n",
      "[flaml.automl: 10-06 09:27:41] {1938} INFO -  at 8.4s,\testimator lgbm's best error=0.2164,\tbest estimator lgbm's best error=0.2164\n",
      "[flaml.automl: 10-06 09:27:41] {1748} INFO - iteration 6, current learner lgbm\n",
      "[flaml.automl: 10-06 09:27:42] {1938} INFO -  at 8.6s,\testimator lgbm's best error=0.2164,\tbest estimator lgbm's best error=0.2164\n",
      "[flaml.automl: 10-06 09:27:42] {1748} INFO - iteration 7, current learner lgbm\n",
      "[flaml.automl: 10-06 09:27:42] {1938} INFO -  at 8.8s,\testimator lgbm's best error=0.1791,\tbest estimator lgbm's best error=0.1791\n",
      "[flaml.automl: 10-06 09:27:42] {1748} INFO - iteration 8, current learner lgbm\n",
      "[flaml.automl: 10-06 09:27:42] {1938} INFO -  at 9.0s,\testimator lgbm's best error=0.1791,\tbest estimator lgbm's best error=0.1791\n",
      "[flaml.automl: 10-06 09:27:42] {1748} INFO - iteration 9, current learner xgboost\n",
      "[flaml.automl: 10-06 09:27:42] {1938} INFO -  at 9.1s,\testimator xgboost's best error=0.7114,\tbest estimator lgbm's best error=0.1791\n",
      "[flaml.automl: 10-06 09:27:42] {1748} INFO - iteration 10, current learner extra_tree\n",
      "[flaml.automl: 10-06 09:27:42] {1938} INFO -  at 9.3s,\testimator extra_tree's best error=0.4473,\tbest estimator lgbm's best error=0.1791\n",
      "[flaml.automl: 10-06 09:27:42] {1748} INFO - iteration 11, current learner xgboost\n",
      "[flaml.automl: 10-06 09:27:42] {1938} INFO -  at 9.5s,\testimator xgboost's best error=0.3625,\tbest estimator lgbm's best error=0.1791\n",
      "[flaml.automl: 10-06 09:27:42] {1748} INFO - iteration 12, current learner extra_tree\n",
      "[flaml.automl: 10-06 09:27:43] {1938} INFO -  at 9.7s,\testimator extra_tree's best error=0.1436,\tbest estimator extra_tree's best error=0.1436\n",
      "[flaml.automl: 10-06 09:27:43] {1748} INFO - iteration 13, current learner xgboost\n",
      "[flaml.automl: 10-06 09:27:43] {1938} INFO -  at 9.8s,\testimator xgboost's best error=0.3136,\tbest estimator extra_tree's best error=0.1436\n",
      "[flaml.automl: 10-06 09:27:43] {1748} INFO - iteration 14, current learner extra_tree\n",
      "[flaml.automl: 10-06 09:27:43] {1938} INFO -  at 10.0s,\testimator extra_tree's best error=0.1436,\tbest estimator extra_tree's best error=0.1436\n",
      "[flaml.automl: 10-06 09:27:43] {1748} INFO - iteration 15, current learner xgboost\n",
      "[flaml.automl: 10-06 09:27:43] {1938} INFO -  at 10.2s,\testimator xgboost's best error=0.3136,\tbest estimator extra_tree's best error=0.1436\n",
      "[flaml.automl: 10-06 09:27:43] {1748} INFO - iteration 16, current learner extra_tree\n",
      "[flaml.automl: 10-06 09:27:43] {1938} INFO -  at 10.4s,\testimator extra_tree's best error=0.1277,\tbest estimator extra_tree's best error=0.1277\n",
      "[flaml.automl: 10-06 09:27:43] {1748} INFO - iteration 17, current learner rf\n",
      "[flaml.automl: 10-06 09:27:43] {1938} INFO -  at 10.6s,\testimator rf's best error=0.3568,\tbest estimator extra_tree's best error=0.1277\n",
      "[flaml.automl: 10-06 09:27:43] {1748} INFO - iteration 18, current learner lgbm\n",
      "[flaml.automl: 10-06 09:27:44] {1938} INFO -  at 10.8s,\testimator lgbm's best error=0.1523,\tbest estimator extra_tree's best error=0.1277\n",
      "[flaml.automl: 10-06 09:27:44] {1748} INFO - iteration 19, current learner xgboost\n",
      "[flaml.automl: 10-06 09:27:44] {1938} INFO -  at 10.9s,\testimator xgboost's best error=0.3116,\tbest estimator extra_tree's best error=0.1277\n",
      "[flaml.automl: 10-06 09:27:44] {1748} INFO - iteration 20, current learner rf\n",
      "[flaml.automl: 10-06 09:27:44] {1938} INFO -  at 11.1s,\testimator rf's best error=0.1306,\tbest estimator extra_tree's best error=0.1277\n",
      "[flaml.automl: 10-06 09:27:44] {1748} INFO - iteration 21, current learner rf\n",
      "[flaml.automl: 10-06 09:27:44] {1938} INFO -  at 11.3s,\testimator rf's best error=0.1306,\tbest estimator extra_tree's best error=0.1277\n",
      "[flaml.automl: 10-06 09:27:44] {1748} INFO - iteration 22, current learner lgbm\n",
      "[flaml.automl: 10-06 09:27:44] {1938} INFO -  at 11.5s,\testimator lgbm's best error=0.1523,\tbest estimator extra_tree's best error=0.1277\n",
      "[flaml.automl: 10-06 09:27:44] {1748} INFO - iteration 23, current learner rf\n",
      "[flaml.automl: 10-06 09:27:45] {1938} INFO -  at 11.9s,\testimator rf's best error=0.1030,\tbest estimator rf's best error=0.1030\n",
      "[flaml.automl: 10-06 09:27:45] {1748} INFO - iteration 24, current learner extra_tree\n",
      "[flaml.automl: 10-06 09:27:45] {1938} INFO -  at 12.1s,\testimator extra_tree's best error=0.1189,\tbest estimator rf's best error=0.1030\n",
      "[flaml.automl: 10-06 09:27:45] {1748} INFO - iteration 25, current learner extra_tree\n",
      "[flaml.automl: 10-06 09:27:45] {1938} INFO -  at 12.4s,\testimator extra_tree's best error=0.1173,\tbest estimator rf's best error=0.1030\n",
      "[flaml.automl: 10-06 09:27:45] {1748} INFO - iteration 26, current learner rf\n",
      "[flaml.automl: 10-06 09:27:46] {1938} INFO -  at 12.7s,\testimator rf's best error=0.1030,\tbest estimator rf's best error=0.1030\n",
      "[flaml.automl: 10-06 09:27:46] {1748} INFO - iteration 27, current learner rf\n",
      "[flaml.automl: 10-06 09:27:46] {1938} INFO -  at 13.0s,\testimator rf's best error=0.1030,\tbest estimator rf's best error=0.1030\n",
      "[flaml.automl: 10-06 09:27:46] {1748} INFO - iteration 28, current learner rf\n",
      "[flaml.automl: 10-06 09:27:46] {1938} INFO -  at 13.3s,\testimator rf's best error=0.1001,\tbest estimator rf's best error=0.1001\n",
      "[flaml.automl: 10-06 09:27:46] {1748} INFO - iteration 29, current learner xgboost\n",
      "[flaml.automl: 10-06 09:27:46] {1938} INFO -  at 13.5s,\testimator xgboost's best error=0.2731,\tbest estimator rf's best error=0.1001\n",
      "[flaml.automl: 10-06 09:27:46] {1748} INFO - iteration 30, current learner lgbm\n",
      "[flaml.automl: 10-06 09:27:47] {1938} INFO -  at 13.9s,\testimator lgbm's best error=0.1199,\tbest estimator rf's best error=0.1001\n",
      "[flaml.automl: 10-06 09:27:47] {1748} INFO - iteration 31, current learner lgbm\n",
      "[flaml.automl: 10-06 09:27:47] {1938} INFO -  at 14.3s,\testimator lgbm's best error=0.1181,\tbest estimator rf's best error=0.1001\n",
      "[flaml.automl: 10-06 09:27:47] {1748} INFO - iteration 32, current learner rf\n",
      "[flaml.automl: 10-06 09:27:48] {1938} INFO -  at 14.8s,\testimator rf's best error=0.0897,\tbest estimator rf's best error=0.0897\n",
      "[flaml.automl: 10-06 09:27:48] {1748} INFO - iteration 33, current learner xgboost\n",
      "[flaml.automl: 10-06 09:27:48] {1938} INFO -  at 15.0s,\testimator xgboost's best error=0.2731,\tbest estimator rf's best error=0.0897\n",
      "[flaml.automl: 10-06 09:27:48] {1748} INFO - iteration 34, current learner rf\n",
      "[flaml.automl: 10-06 09:27:48] {1938} INFO -  at 15.3s,\testimator rf's best error=0.0897,\tbest estimator rf's best error=0.0897\n",
      "[flaml.automl: 10-06 09:27:48] {1748} INFO - iteration 35, current learner rf\n",
      "[flaml.automl: 10-06 09:27:49] {1938} INFO -  at 15.7s,\testimator rf's best error=0.0849,\tbest estimator rf's best error=0.0849\n",
      "[flaml.automl: 10-06 09:27:49] {1748} INFO - iteration 36, current learner extra_tree\n"
     ]
    },
    {
     "name": "stderr",
     "output_type": "stream",
     "text": [
      "[flaml.automl: 10-06 09:27:49] {1938} INFO -  at 15.9s,\testimator extra_tree's best error=0.0995,\tbest estimator rf's best error=0.0849\n",
      "[flaml.automl: 10-06 09:27:49] {1748} INFO - iteration 37, current learner extra_tree\n",
      "[flaml.automl: 10-06 09:27:49] {1938} INFO -  at 16.1s,\testimator extra_tree's best error=0.0995,\tbest estimator rf's best error=0.0849\n",
      "[flaml.automl: 10-06 09:27:49] {1748} INFO - iteration 38, current learner extra_tree\n",
      "[flaml.automl: 10-06 09:27:49] {1938} INFO -  at 16.5s,\testimator extra_tree's best error=0.0972,\tbest estimator rf's best error=0.0849\n",
      "[flaml.automl: 10-06 09:27:49] {1748} INFO - iteration 39, current learner rf\n",
      "[flaml.automl: 10-06 09:27:50] {1938} INFO -  at 16.9s,\testimator rf's best error=0.0849,\tbest estimator rf's best error=0.0849\n",
      "[flaml.automl: 10-06 09:27:50] {1748} INFO - iteration 40, current learner rf\n",
      "[flaml.automl: 10-06 09:27:50] {1938} INFO -  at 17.1s,\testimator rf's best error=0.0849,\tbest estimator rf's best error=0.0849\n",
      "[flaml.automl: 10-06 09:27:50] {1748} INFO - iteration 41, current learner xgboost\n",
      "[flaml.automl: 10-06 09:27:50] {1938} INFO -  at 17.3s,\testimator xgboost's best error=0.2699,\tbest estimator rf's best error=0.0849\n",
      "[flaml.automl: 10-06 09:27:50] {1748} INFO - iteration 42, current learner lgbm\n",
      "[flaml.automl: 10-06 09:27:51] {1938} INFO -  at 17.7s,\testimator lgbm's best error=0.1181,\tbest estimator rf's best error=0.0849\n",
      "[flaml.automl: 10-06 09:27:51] {1748} INFO - iteration 43, current learner rf\n",
      "[flaml.automl: 10-06 09:27:51] {1938} INFO -  at 18.2s,\testimator rf's best error=0.0849,\tbest estimator rf's best error=0.0849\n",
      "[flaml.automl: 10-06 09:27:51] {1748} INFO - iteration 44, current learner extra_tree\n",
      "[flaml.automl: 10-06 09:27:51] {1938} INFO -  at 18.5s,\testimator extra_tree's best error=0.0972,\tbest estimator rf's best error=0.0849\n",
      "[flaml.automl: 10-06 09:27:51] {1748} INFO - iteration 45, current learner rf\n",
      "[flaml.automl: 10-06 09:27:52] {1938} INFO -  at 18.8s,\testimator rf's best error=0.0849,\tbest estimator rf's best error=0.0849\n",
      "[flaml.automl: 10-06 09:27:52] {1748} INFO - iteration 46, current learner rf\n",
      "[flaml.automl: 10-06 09:27:52] {1938} INFO -  at 19.3s,\testimator rf's best error=0.0849,\tbest estimator rf's best error=0.0849\n",
      "[flaml.automl: 10-06 09:27:52] {1748} INFO - iteration 47, current learner rf\n",
      "[flaml.automl: 10-06 09:27:52] {1938} INFO -  at 19.6s,\testimator rf's best error=0.0849,\tbest estimator rf's best error=0.0849\n",
      "[flaml.automl: 10-06 09:27:52] {1748} INFO - iteration 48, current learner rf\n",
      "[flaml.automl: 10-06 09:27:53] {1938} INFO -  at 20.2s,\testimator rf's best error=0.0849,\tbest estimator rf's best error=0.0849\n",
      "[flaml.automl: 10-06 09:27:53] {1748} INFO - iteration 49, current learner catboost\n",
      "[flaml.automl: 10-06 09:28:05] {1938} INFO -  at 31.9s,\testimator catboost's best error=0.1241,\tbest estimator rf's best error=0.0849\n",
      "[flaml.automl: 10-06 09:28:05] {1748} INFO - iteration 50, current learner rf\n",
      "[flaml.automl: 10-06 09:28:05] {1938} INFO -  at 32.4s,\testimator rf's best error=0.0849,\tbest estimator rf's best error=0.0849\n",
      "[flaml.automl: 10-06 09:28:05] {1748} INFO - iteration 51, current learner extra_tree\n",
      "[flaml.automl: 10-06 09:28:06] {1938} INFO -  at 32.6s,\testimator extra_tree's best error=0.0972,\tbest estimator rf's best error=0.0849\n",
      "[flaml.automl: 10-06 09:28:06] {1748} INFO - iteration 52, current learner rf\n",
      "[flaml.automl: 10-06 09:28:06] {1938} INFO -  at 32.9s,\testimator rf's best error=0.0849,\tbest estimator rf's best error=0.0849\n",
      "[flaml.automl: 10-06 09:28:06] {1748} INFO - iteration 53, current learner rf\n",
      "[flaml.automl: 10-06 09:28:06] {1938} INFO -  at 33.4s,\testimator rf's best error=0.0849,\tbest estimator rf's best error=0.0849\n",
      "[flaml.automl: 10-06 09:28:06] {1748} INFO - iteration 54, current learner rf\n",
      "[flaml.automl: 10-06 09:28:06] {1938} INFO -  at 33.6s,\testimator rf's best error=0.0849,\tbest estimator rf's best error=0.0849\n",
      "[flaml.automl: 10-06 09:28:06] {1748} INFO - iteration 55, current learner lgbm\n",
      "[flaml.automl: 10-06 09:28:07] {1938} INFO -  at 34.0s,\testimator lgbm's best error=0.1181,\tbest estimator rf's best error=0.0849\n",
      "[flaml.automl: 10-06 09:28:07] {1748} INFO - iteration 56, current learner catboost\n",
      "[flaml.automl: 10-06 09:28:18] {1938} INFO -  at 45.3s,\testimator catboost's best error=0.1241,\tbest estimator rf's best error=0.0849\n",
      "[flaml.automl: 10-06 09:28:18] {1748} INFO - iteration 57, current learner rf\n",
      "[flaml.automl: 10-06 09:28:18] {1938} INFO -  at 45.6s,\testimator rf's best error=0.0849,\tbest estimator rf's best error=0.0849\n",
      "[flaml.automl: 10-06 09:28:18] {1748} INFO - iteration 58, current learner rf\n",
      "[flaml.automl: 10-06 09:28:19] {1938} INFO -  at 46.0s,\testimator rf's best error=0.0849,\tbest estimator rf's best error=0.0849\n",
      "[flaml.automl: 10-06 09:28:19] {1748} INFO - iteration 59, current learner rf\n",
      "[flaml.automl: 10-06 09:28:19] {1938} INFO -  at 46.4s,\testimator rf's best error=0.0849,\tbest estimator rf's best error=0.0849\n",
      "[flaml.automl: 10-06 09:28:19] {1748} INFO - iteration 60, current learner lgbm\n",
      "[flaml.automl: 10-06 09:28:20] {1938} INFO -  at 47.3s,\testimator lgbm's best error=0.1181,\tbest estimator rf's best error=0.0849\n",
      "[flaml.automl: 10-06 09:28:20] {1748} INFO - iteration 61, current learner catboost\n",
      "[flaml.automl: 10-06 09:28:26] {1938} INFO -  at 53.0s,\testimator catboost's best error=0.1241,\tbest estimator rf's best error=0.0849\n",
      "[flaml.automl: 10-06 09:28:26] {1748} INFO - iteration 62, current learner rf\n",
      "[flaml.automl: 10-06 09:28:26] {1938} INFO -  at 53.3s,\testimator rf's best error=0.0849,\tbest estimator rf's best error=0.0849\n",
      "[flaml.automl: 10-06 09:28:26] {1748} INFO - iteration 63, current learner rf\n",
      "[flaml.automl: 10-06 09:28:27] {1938} INFO -  at 53.8s,\testimator rf's best error=0.0820,\tbest estimator rf's best error=0.0820\n",
      "[flaml.automl: 10-06 09:28:27] {1748} INFO - iteration 64, current learner xgboost\n",
      "[flaml.automl: 10-06 09:28:27] {1938} INFO -  at 53.9s,\testimator xgboost's best error=0.1556,\tbest estimator rf's best error=0.0820\n",
      "[flaml.automl: 10-06 09:28:27] {1748} INFO - iteration 65, current learner xgboost\n",
      "[flaml.automl: 10-06 09:28:27] {1938} INFO -  at 54.1s,\testimator xgboost's best error=0.1556,\tbest estimator rf's best error=0.0820\n",
      "[flaml.automl: 10-06 09:28:27] {1748} INFO - iteration 66, current learner xgboost\n",
      "[flaml.automl: 10-06 09:28:27] {1938} INFO -  at 54.2s,\testimator xgboost's best error=0.1556,\tbest estimator rf's best error=0.0820\n",
      "[flaml.automl: 10-06 09:28:27] {1748} INFO - iteration 67, current learner xgboost\n",
      "[flaml.automl: 10-06 09:28:27] {1938} INFO -  at 54.4s,\testimator xgboost's best error=0.1540,\tbest estimator rf's best error=0.0820\n",
      "[flaml.automl: 10-06 09:28:27] {1748} INFO - iteration 68, current learner rf\n",
      "[flaml.automl: 10-06 09:28:28] {1938} INFO -  at 55.0s,\testimator rf's best error=0.0820,\tbest estimator rf's best error=0.0820\n",
      "[flaml.automl: 10-06 09:28:28] {1748} INFO - iteration 69, current learner rf\n",
      "[flaml.automl: 10-06 09:28:28] {1938} INFO -  at 55.4s,\testimator rf's best error=0.0820,\tbest estimator rf's best error=0.0820\n",
      "[flaml.automl: 10-06 09:28:28] {1748} INFO - iteration 70, current learner rf\n",
      "[flaml.automl: 10-06 09:28:29] {1938} INFO -  at 55.7s,\testimator rf's best error=0.0820,\tbest estimator rf's best error=0.0820\n",
      "[flaml.automl: 10-06 09:28:29] {1748} INFO - iteration 71, current learner xgboost\n",
      "[flaml.automl: 10-06 09:28:29] {1938} INFO -  at 55.9s,\testimator xgboost's best error=0.1357,\tbest estimator rf's best error=0.0820\n",
      "[flaml.automl: 10-06 09:28:29] {1748} INFO - iteration 72, current learner xgboost\n",
      "[flaml.automl: 10-06 09:28:29] {1938} INFO -  at 56.1s,\testimator xgboost's best error=0.1357,\tbest estimator rf's best error=0.0820\n",
      "[flaml.automl: 10-06 09:28:29] {1748} INFO - iteration 73, current learner extra_tree\n",
      "[flaml.automl: 10-06 09:28:29] {1938} INFO -  at 56.6s,\testimator extra_tree's best error=0.0938,\tbest estimator rf's best error=0.0820\n",
      "[flaml.automl: 10-06 09:28:29] {1748} INFO - iteration 74, current learner xgboost\n",
      "[flaml.automl: 10-06 09:28:30] {1938} INFO -  at 56.7s,\testimator xgboost's best error=0.1357,\tbest estimator rf's best error=0.0820\n",
      "[flaml.automl: 10-06 09:28:30] {1748} INFO - iteration 75, current learner extra_tree\n"
     ]
    },
    {
     "name": "stderr",
     "output_type": "stream",
     "text": [
      "[flaml.automl: 10-06 09:28:30] {1938} INFO -  at 57.0s,\testimator extra_tree's best error=0.0938,\tbest estimator rf's best error=0.0820\n",
      "[flaml.automl: 10-06 09:28:30] {1748} INFO - iteration 76, current learner rf\n",
      "[flaml.automl: 10-06 09:28:31] {1938} INFO -  at 57.7s,\testimator rf's best error=0.0820,\tbest estimator rf's best error=0.0820\n",
      "[flaml.automl: 10-06 09:28:31] {1748} INFO - iteration 77, current learner rf\n",
      "[flaml.automl: 10-06 09:28:31] {1938} INFO -  at 58.1s,\testimator rf's best error=0.0796,\tbest estimator rf's best error=0.0796\n",
      "[flaml.automl: 10-06 09:28:31] {1748} INFO - iteration 78, current learner xgboost\n",
      "[flaml.automl: 10-06 09:28:31] {1938} INFO -  at 58.4s,\testimator xgboost's best error=0.1357,\tbest estimator rf's best error=0.0796\n",
      "[flaml.automl: 10-06 09:28:31] {1748} INFO - iteration 79, current learner rf\n",
      "[flaml.automl: 10-06 09:28:32] {1938} INFO -  at 58.8s,\testimator rf's best error=0.0710,\tbest estimator rf's best error=0.0710\n",
      "[flaml.automl: 10-06 09:28:32] {1748} INFO - iteration 80, current learner rf\n",
      "[flaml.automl: 10-06 09:28:32] {1938} INFO -  at 59.5s,\testimator rf's best error=0.0710,\tbest estimator rf's best error=0.0710\n",
      "[flaml.automl: 10-06 09:28:32] {1748} INFO - iteration 81, current learner xgboost\n",
      "[flaml.automl: 10-06 09:28:33] {1938} INFO -  at 59.7s,\testimator xgboost's best error=0.1357,\tbest estimator rf's best error=0.0710\n",
      "[flaml.automl: 10-06 09:28:33] {1748} INFO - iteration 82, current learner xgboost\n",
      "[flaml.automl: 10-06 09:28:33] {1938} INFO -  at 59.9s,\testimator xgboost's best error=0.1357,\tbest estimator rf's best error=0.0710\n",
      "[flaml.automl: 10-06 09:28:33] {2043} INFO - selected model: RandomForestRegressor(max_features=0.8345236421781413, max_leaf_nodes=521,\n",
      "                      n_estimators=10, n_jobs=-1)\n",
      "[flaml.automl: 10-06 09:28:33] {2104} INFO - retrain rf for 0.1s\n",
      "[flaml.automl: 10-06 09:28:33] {2110} INFO - retrained model: RandomForestRegressor(max_features=0.8345236421781413, max_leaf_nodes=521,\n",
      "                      n_estimators=10, n_jobs=-1)\n",
      "[flaml.automl: 10-06 09:28:33] {1539} INFO - fit succeeded\n",
      "[flaml.automl: 10-06 09:28:33] {1540} INFO - Time taken to find the best model: 58.82643795013428\n",
      "[flaml.automl: 10-06 09:28:33] {1551} WARNING - Time taken to find the best model is 98% of the provided time budget and not all estimators' hyperparameter search converged. Consider increasing the time budget.\n"
     ]
    }
   ],
   "source": [
    "from flaml import AutoML\n",
    "automl = AutoML()\n",
    "automl.fit(X_train, y_train, task=\"regression\")"
   ]
  },
  {
   "cell_type": "code",
   "execution_count": 11,
   "metadata": {},
   "outputs": [
    {
     "name": "stdout",
     "output_type": "stream",
     "text": [
      "<flaml.model.RandomForestEstimator object at 0x0000020B8A659A30>\n"
     ]
    }
   ],
   "source": [
    "# Export the best model\n",
    "print(automl.model)"
   ]
  },
  {
   "cell_type": "markdown",
   "metadata": {},
   "source": [
    "## Predictions"
   ]
  },
  {
   "cell_type": "code",
   "execution_count": 14,
   "metadata": {},
   "outputs": [
    {
     "data": {
      "text/plain": [
       "array([1822380.17792208,  319082.3135506 ,  841985.10885278, ...,\n",
       "       5577573.47619048,  380996.44555555, 2278764.47619048])"
      ]
     },
     "execution_count": 14,
     "metadata": {},
     "output_type": "execute_result"
    }
   ],
   "source": [
    "y_test_predict = automl.predict(X_test)\n",
    "\n",
    "y_test_predict"
   ]
  },
  {
   "cell_type": "markdown",
   "metadata": {},
   "source": [
    "## Scatter plot of Actual vs Predicted Prices"
   ]
  },
  {
   "cell_type": "code",
   "execution_count": 19,
   "metadata": {},
   "outputs": [
    {
     "data": {
      "text/plain": [
       "Text(0.5, 0, 'Actual Price')"
      ]
     },
     "execution_count": 19,
     "metadata": {},
     "output_type": "execute_result"
    },
    {
     "data": {
      "image/png": "[encoded data removed]",
      "text/plain": [
       "<Figure size 360x360 with 1 Axes>"
      ]
     },
     "metadata": {
      "needs_background": "light"
     },
     "output_type": "display_data"
    }
   ],
   "source": [
    "import matplotlib.pyplot as plt\n",
    "import numpy as np\n",
    "\n",
    "plt.figure(figsize=(5,5))\n",
    "plt.scatter(x=y_test, y=y_test_predict, c='olive', alpha=0.3)\n",
    "\n",
    "#Add trendline\n",
    "x = np.polyfit(y_test, y_test_predict, 1)\n",
    "p = np.poly1d(x)\n",
    "\n",
    "plt.plot(y_test,p(y_test), 'orangered') \n",
    "plt.ylabel(\"Predicted Price\")\n",
    "plt.xlabel(\"Actual Price\")"
   ]
  },
  {
   "cell_type": "markdown",
   "metadata": {},
   "source": [
    "## Model Performance"
   ]
  },
  {
   "cell_type": "code",
   "execution_count": 20,
   "metadata": {},
   "outputs": [
    {
     "data": {
      "text/plain": [
       "0.96"
      ]
     },
     "execution_count": 20,
     "metadata": {},
     "output_type": "execute_result"
    }
   ],
   "source": [
    "r2_y_test = r2_score(y_test, y_test_predict)\n",
    "\n",
    "round(r2_y_test, 2)"
   ]
  },
  {
   "cell_type": "markdown",
   "metadata": {},
   "source": [
    "## Saving the Model"
   ]
  },
  {
   "cell_type": "code",
   "execution_count": 21,
   "metadata": {},
   "outputs": [],
   "source": [
    "import pickle\n",
    "with open('automl.pkl', 'wb') as f:\n",
    "    pickle.dump(automl, f, pickle.HIGHEST_PROTOCOL)"
   ]
  }
 ],
 "metadata": {
  "kernelspec": {
   "display_name": "Python 3",
   "language": "python",
   "name": "python3"
  },
  "language_info": {
   "codemirror_mode": {
    "name": "ipython",
    "version": 3
   },
   "file_extension": ".py",
   "mimetype": "text/x-python",
   "name": "python",
   "nbconvert_exporter": "python",
   "pygments_lexer": "ipython3",
   "version": "3.8.5"
  }
 },
 "nbformat": 4,
 "nbformat_minor": 4
}
